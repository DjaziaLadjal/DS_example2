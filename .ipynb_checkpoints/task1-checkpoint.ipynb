{
 "cells": [
  {
   "cell_type": "markdown",
   "metadata": {},
   "source": [
    "# Task 1: Exploratory Data Analysis and data cleaning"
   ]
  },
  {
   "cell_type": "markdown",
   "metadata": {},
   "source": [
    "## Important reminder\n",
    "\n",
    "Remember that this binder allows you to interact with the code. You can change any part of it but you **CAN'T** break anything. If you would like to reset the changes, you just need to re-open the binder link and everything will be go back to it original state. That said, you do not necessarily need to change any code to run this task. If you just run the binder as is you will still get all the results you need. \n",
    "\n",
    "Throughout the task and before any coding cell, you see a green <font color='Green'>**You CAN edit the cell below if you want!**</font>, which means that you can edit the code but only if you want.\\\n",
    "If you see a red <font color='red'>**You DO NOT need to edit anything in the code below!**</font>, it means you don't need to edit anything. Again, you can't break anything, so feel free to test and explore.\n",
    "\n",
    "## Objective\n",
    "\n",
    "The goal of this data science project is to evaluate how well an online retail store is doing and to project the growth over the next 3 years.\n",
    "\n",
    "We have been provided with a dataset of daily sales for the past 4 years.\n",
    "\n",
    "Based on the project goal and the data we have access to we can frame the problem with the following questions:\n",
    "\n",
    "1. Is the business growing year-on-year?\n",
    "2. Does the growth reflect on all product categories?\n",
    "3. Is the growth stable enough for us to forecast sales for the next 3 years?\n",
    "\n",
    "*Our working hypothesis:*\n",
    "\n",
    "**Hypothesis 1:** The online retail store has a positive year-on-year growth. \n",
    "\n",
    "**Hypothesis 2:** \n",
    "\n",
    "**Hypothesis 3:** \n",
    "\n",
    "Before verifying our hypothesis we need to explore our data to understand the features we have. This the Exploratory Data Analysis (EDA) step. We will also need to do some ETL (Extract, Transform and Load) to clear and prepare our dataset. This is an important step in data analytics and can even require more work than the actual analysis step.\n",
    "\n",
    "First, let us explore our dataset and plot some key statistics which will help us understand the data and the business.\n",
    "\n",
    "## Setup the environment\n",
    "\n",
    "We will start by setting up our analytics environment by calling the required packages for this task. \n",
    "\n",
    "We will need the following libraries:\n",
    "\n",
    "* **pandas**: library for data manipulation. It will help us structure the data.\n",
    "* **sklearn**: library of different analytics models. In this case we will use the linear regression model.\n",
    "* **matplotlib.pyplot**: plotting library. We will use this to visualise data.\n",
    "* **numpy**: array handling an mathematic library for python.\n",
    "* **datetime** and **calendar**: a package which handles date and time data formatting.\n",
    "* **scipy.stats**: this packages is used for staistical calculations.\n",
    "\n",
    "Run the following cell to import the packages \n",
    "\n",
    "<font color='red'>**You DO NOT need to edit anything in the code below!**</font>"
   ]
  },
  {
   "cell_type": "code",
   "execution_count": 2,
   "metadata": {},
   "outputs": [],
   "source": [
    "%matplotlib inline\n",
    "import pandas as pd\n",
    "import matplotlib.pyplot as plt\n",
    "from sklearn.linear_model import LinearRegression\n",
    "from sklearn import metrics\n",
    "import datetime as dt\n",
    "import numpy as np\n",
    "import calendar\n",
    "from scipy.stats import pearsonr"
   ]
  },
  {
   "cell_type": "markdown",
   "metadata": {},
   "source": [
    "## Reading the input data\n",
    "\n",
    "We will start by reading the sales data from a file. We will use the **pandas** library to generate a structured data table called a **dataframe**.\n",
    "\n",
    "To read the data we need the name of the data file and the location or path to where the file is stored.\n",
    "Run the next cell to read the data. We will call our dataframe retail_data.\n",
    "\n",
    "<font color='red'>**You DO NOT need to edit anything in the code below!**</font>"
   ]
  },
  {
   "cell_type": "code",
   "execution_count": 3,
   "metadata": {},
   "outputs": [],
   "source": [
    "retail_data = pd.read_csv('./input_data/superstore_data.csv',encoding='iso-8859-1')"
   ]
  },
  {
   "cell_type": "markdown",
   "metadata": {},
   "source": [
    "We can preview the dataframe and diplay some basic information using **pandas** commands. Some very useful commands to know are:\\\n",
    "**retail_data.shape**: Display number of rows and columns\\\n",
    "**retail_data.head(n)** Diplay first n rows of the DataFrame\\\n",
    "**retail_data.tail(n)** Diplay last n rows of the DataFrame\\\n",
    "**retail_data.info()** Display Index, Datatype and Memory information\\\n",
    "**retail_data.describe()** Provides summary statistics for numerical columns\\\n",
    "**retail_data.colums** : Display list of dataframe attributes.\n",
    "**retail_data['column name'].unique()** : Display list of unique values for an attribute. You will need to replace 'column name' with the required attribute name.\n",
    "\n",
    "Have a go at testing these different commands in the cell below. You can just copy/paste them in the cell and then run it.\n",
    "\n",
    "<font color='Green'>**You CAN edit the cell below if you want!**</font>"
   ]
  },
  {
   "cell_type": "code",
   "execution_count": 4,
   "metadata": {},
   "outputs": [],
   "source": [
    "# any text in a coding cell with '#' at the start is a comment and not a command\n",
    "# you can copy some of the commands from above to test here under this line. Remember to run the cell again.\n"
   ]
  },
  {
   "cell_type": "markdown",
   "metadata": {},
   "source": [
    "Using the *retail_data.shape* and the *retail_data.head(n)*, we can check the size of the dataframe and preview the first 10 rows.\n",
    "\n",
    "<font color='red'>**You DO NOT need to edit anything in the code below!**</font>"
   ]
  },
  {
   "cell_type": "code",
   "execution_count": 5,
   "metadata": {},
   "outputs": [
    {
     "name": "stdout",
     "output_type": "stream",
     "text": [
      "Number of rows and columns\n",
      "(9800, 17)\n"
     ]
    },
    {
     "data": {
      "text/html": [
       "<div>\n",
       "<style scoped>\n",
       "    .dataframe tbody tr th:only-of-type {\n",
       "        vertical-align: middle;\n",
       "    }\n",
       "\n",
       "    .dataframe tbody tr th {\n",
       "        vertical-align: top;\n",
       "    }\n",
       "\n",
       "    .dataframe thead th {\n",
       "        text-align: right;\n",
       "    }\n",
       "</style>\n",
       "<table border=\"1\" class=\"dataframe\">\n",
       "  <thead>\n",
       "    <tr style=\"text-align: right;\">\n",
       "      <th></th>\n",
       "      <th>Row ID</th>\n",
       "      <th>Order ID</th>\n",
       "      <th>Order Date</th>\n",
       "      <th>Ship Date</th>\n",
       "      <th>Ship Mode</th>\n",
       "      <th>Customer ID</th>\n",
       "      <th>Segment</th>\n",
       "      <th>Country</th>\n",
       "      <th>City</th>\n",
       "      <th>State</th>\n",
       "      <th>Postal Code</th>\n",
       "      <th>Region</th>\n",
       "      <th>Product ID</th>\n",
       "      <th>Category</th>\n",
       "      <th>Sub-Category</th>\n",
       "      <th>Product Name</th>\n",
       "      <th>Sales</th>\n",
       "    </tr>\n",
       "  </thead>\n",
       "  <tbody>\n",
       "    <tr>\n",
       "      <th>0</th>\n",
       "      <td>1</td>\n",
       "      <td>CA-2017-152156</td>\n",
       "      <td>11/8/20</td>\n",
       "      <td>11/11/20</td>\n",
       "      <td>Second Class</td>\n",
       "      <td>CG-12520</td>\n",
       "      <td>Consumer</td>\n",
       "      <td>United States</td>\n",
       "      <td>Henderson</td>\n",
       "      <td>Kentucky</td>\n",
       "      <td>42420.0</td>\n",
       "      <td>South</td>\n",
       "      <td>FUR-BO-10001798</td>\n",
       "      <td>Furniture</td>\n",
       "      <td>Bookcases</td>\n",
       "      <td>Bush Somerset Collection Bookcase</td>\n",
       "      <td>261.9600</td>\n",
       "    </tr>\n",
       "    <tr>\n",
       "      <th>1</th>\n",
       "      <td>2</td>\n",
       "      <td>CA-2017-152156</td>\n",
       "      <td>11/8/20</td>\n",
       "      <td>11/11/20</td>\n",
       "      <td>Second Class</td>\n",
       "      <td>CG-12520</td>\n",
       "      <td>Consumer</td>\n",
       "      <td>United States</td>\n",
       "      <td>Henderson</td>\n",
       "      <td>Kentucky</td>\n",
       "      <td>42420.0</td>\n",
       "      <td>South</td>\n",
       "      <td>FUR-CH-10000454</td>\n",
       "      <td>Furniture</td>\n",
       "      <td>Chairs</td>\n",
       "      <td>Hon Deluxe Fabric Upholstered Stacking Chairs,...</td>\n",
       "      <td>731.9400</td>\n",
       "    </tr>\n",
       "    <tr>\n",
       "      <th>2</th>\n",
       "      <td>3</td>\n",
       "      <td>CA-2017-138688</td>\n",
       "      <td>6/12/20</td>\n",
       "      <td>16/6/20</td>\n",
       "      <td>Second Class</td>\n",
       "      <td>DV-13045</td>\n",
       "      <td>Corporate</td>\n",
       "      <td>United States</td>\n",
       "      <td>Los Angeles</td>\n",
       "      <td>California</td>\n",
       "      <td>90036.0</td>\n",
       "      <td>West</td>\n",
       "      <td>OFF-LA-10000240</td>\n",
       "      <td>Office Supplies</td>\n",
       "      <td>Labels</td>\n",
       "      <td>Self-Adhesive Address Labels for Typewriters b...</td>\n",
       "      <td>14.6200</td>\n",
       "    </tr>\n",
       "    <tr>\n",
       "      <th>3</th>\n",
       "      <td>4</td>\n",
       "      <td>US-2016-108966</td>\n",
       "      <td>10/11/19</td>\n",
       "      <td>18/10/19</td>\n",
       "      <td>Standard Class</td>\n",
       "      <td>SO-20335</td>\n",
       "      <td>Consumer</td>\n",
       "      <td>United States</td>\n",
       "      <td>Fort Lauderdale</td>\n",
       "      <td>Florida</td>\n",
       "      <td>33311.0</td>\n",
       "      <td>South</td>\n",
       "      <td>FUR-TA-10000577</td>\n",
       "      <td>Furniture</td>\n",
       "      <td>Tables</td>\n",
       "      <td>Bretford CR4500 Series Slim Rectangular Table</td>\n",
       "      <td>957.5775</td>\n",
       "    </tr>\n",
       "    <tr>\n",
       "      <th>4</th>\n",
       "      <td>5</td>\n",
       "      <td>US-2016-108966</td>\n",
       "      <td>10/11/19</td>\n",
       "      <td>18/10/19</td>\n",
       "      <td>Standard Class</td>\n",
       "      <td>SO-20335</td>\n",
       "      <td>Consumer</td>\n",
       "      <td>United States</td>\n",
       "      <td>Fort Lauderdale</td>\n",
       "      <td>Florida</td>\n",
       "      <td>33311.0</td>\n",
       "      <td>South</td>\n",
       "      <td>OFF-ST-10000760</td>\n",
       "      <td>Office Supplies</td>\n",
       "      <td>Storage</td>\n",
       "      <td>Eldon Fold 'N Roll Cart System</td>\n",
       "      <td>22.3680</td>\n",
       "    </tr>\n",
       "    <tr>\n",
       "      <th>5</th>\n",
       "      <td>6</td>\n",
       "      <td>CA-2015-115812</td>\n",
       "      <td>6/9/18</td>\n",
       "      <td>14/6/18</td>\n",
       "      <td>Standard Class</td>\n",
       "      <td>BH-11710</td>\n",
       "      <td>Consumer</td>\n",
       "      <td>United States</td>\n",
       "      <td>Los Angeles</td>\n",
       "      <td>California</td>\n",
       "      <td>90032.0</td>\n",
       "      <td>West</td>\n",
       "      <td>FUR-FU-10001487</td>\n",
       "      <td>Furniture</td>\n",
       "      <td>Furnishings</td>\n",
       "      <td>Eldon Expressions Wood and Plastic Desk Access...</td>\n",
       "      <td>48.8600</td>\n",
       "    </tr>\n",
       "    <tr>\n",
       "      <th>6</th>\n",
       "      <td>7</td>\n",
       "      <td>CA-2015-115812</td>\n",
       "      <td>6/9/18</td>\n",
       "      <td>14/6/18</td>\n",
       "      <td>Standard Class</td>\n",
       "      <td>BH-11710</td>\n",
       "      <td>Consumer</td>\n",
       "      <td>United States</td>\n",
       "      <td>Los Angeles</td>\n",
       "      <td>California</td>\n",
       "      <td>90032.0</td>\n",
       "      <td>West</td>\n",
       "      <td>OFF-AR-10002833</td>\n",
       "      <td>Office Supplies</td>\n",
       "      <td>Art</td>\n",
       "      <td>Newell 322</td>\n",
       "      <td>7.2800</td>\n",
       "    </tr>\n",
       "    <tr>\n",
       "      <th>7</th>\n",
       "      <td>8</td>\n",
       "      <td>CA-2015-115812</td>\n",
       "      <td>6/9/18</td>\n",
       "      <td>14/6/18</td>\n",
       "      <td>Standard Class</td>\n",
       "      <td>BH-11710</td>\n",
       "      <td>Consumer</td>\n",
       "      <td>United States</td>\n",
       "      <td>Los Angeles</td>\n",
       "      <td>California</td>\n",
       "      <td>90032.0</td>\n",
       "      <td>West</td>\n",
       "      <td>TEC-PH-10002275</td>\n",
       "      <td>Technology</td>\n",
       "      <td>Phones</td>\n",
       "      <td>Mitel 5320 IP Phone VoIP phone</td>\n",
       "      <td>907.1520</td>\n",
       "    </tr>\n",
       "    <tr>\n",
       "      <th>8</th>\n",
       "      <td>9</td>\n",
       "      <td>CA-2015-115812</td>\n",
       "      <td>6/9/18</td>\n",
       "      <td>14/6/18</td>\n",
       "      <td>Standard Class</td>\n",
       "      <td>BH-11710</td>\n",
       "      <td>Consumer</td>\n",
       "      <td>United States</td>\n",
       "      <td>Los Angeles</td>\n",
       "      <td>California</td>\n",
       "      <td>90032.0</td>\n",
       "      <td>West</td>\n",
       "      <td>OFF-BI-10003910</td>\n",
       "      <td>Office Supplies</td>\n",
       "      <td>Binders</td>\n",
       "      <td>DXL Angle-View Binders with Locking Rings by S...</td>\n",
       "      <td>18.5040</td>\n",
       "    </tr>\n",
       "    <tr>\n",
       "      <th>9</th>\n",
       "      <td>10</td>\n",
       "      <td>CA-2015-115812</td>\n",
       "      <td>6/9/18</td>\n",
       "      <td>14/6/18</td>\n",
       "      <td>Standard Class</td>\n",
       "      <td>BH-11710</td>\n",
       "      <td>Consumer</td>\n",
       "      <td>United States</td>\n",
       "      <td>Los Angeles</td>\n",
       "      <td>California</td>\n",
       "      <td>90032.0</td>\n",
       "      <td>West</td>\n",
       "      <td>OFF-AP-10002892</td>\n",
       "      <td>Office Supplies</td>\n",
       "      <td>Appliances</td>\n",
       "      <td>Belkin F5C206VTEL 6 Outlet Surge</td>\n",
       "      <td>114.9000</td>\n",
       "    </tr>\n",
       "  </tbody>\n",
       "</table>\n",
       "</div>"
      ],
      "text/plain": [
       "   Row ID        Order ID Order Date Ship Date       Ship Mode Customer ID  \\\n",
       "0       1  CA-2017-152156    11/8/20  11/11/20    Second Class    CG-12520   \n",
       "1       2  CA-2017-152156    11/8/20  11/11/20    Second Class    CG-12520   \n",
       "2       3  CA-2017-138688    6/12/20   16/6/20    Second Class    DV-13045   \n",
       "3       4  US-2016-108966   10/11/19  18/10/19  Standard Class    SO-20335   \n",
       "4       5  US-2016-108966   10/11/19  18/10/19  Standard Class    SO-20335   \n",
       "5       6  CA-2015-115812     6/9/18   14/6/18  Standard Class    BH-11710   \n",
       "6       7  CA-2015-115812     6/9/18   14/6/18  Standard Class    BH-11710   \n",
       "7       8  CA-2015-115812     6/9/18   14/6/18  Standard Class    BH-11710   \n",
       "8       9  CA-2015-115812     6/9/18   14/6/18  Standard Class    BH-11710   \n",
       "9      10  CA-2015-115812     6/9/18   14/6/18  Standard Class    BH-11710   \n",
       "\n",
       "     Segment        Country             City       State  Postal Code Region  \\\n",
       "0   Consumer  United States        Henderson    Kentucky      42420.0  South   \n",
       "1   Consumer  United States        Henderson    Kentucky      42420.0  South   \n",
       "2  Corporate  United States      Los Angeles  California      90036.0   West   \n",
       "3   Consumer  United States  Fort Lauderdale     Florida      33311.0  South   \n",
       "4   Consumer  United States  Fort Lauderdale     Florida      33311.0  South   \n",
       "5   Consumer  United States      Los Angeles  California      90032.0   West   \n",
       "6   Consumer  United States      Los Angeles  California      90032.0   West   \n",
       "7   Consumer  United States      Los Angeles  California      90032.0   West   \n",
       "8   Consumer  United States      Los Angeles  California      90032.0   West   \n",
       "9   Consumer  United States      Los Angeles  California      90032.0   West   \n",
       "\n",
       "        Product ID         Category Sub-Category  \\\n",
       "0  FUR-BO-10001798        Furniture    Bookcases   \n",
       "1  FUR-CH-10000454        Furniture       Chairs   \n",
       "2  OFF-LA-10000240  Office Supplies       Labels   \n",
       "3  FUR-TA-10000577        Furniture       Tables   \n",
       "4  OFF-ST-10000760  Office Supplies      Storage   \n",
       "5  FUR-FU-10001487        Furniture  Furnishings   \n",
       "6  OFF-AR-10002833  Office Supplies          Art   \n",
       "7  TEC-PH-10002275       Technology       Phones   \n",
       "8  OFF-BI-10003910  Office Supplies      Binders   \n",
       "9  OFF-AP-10002892  Office Supplies   Appliances   \n",
       "\n",
       "                                        Product Name     Sales  \n",
       "0                  Bush Somerset Collection Bookcase  261.9600  \n",
       "1  Hon Deluxe Fabric Upholstered Stacking Chairs,...  731.9400  \n",
       "2  Self-Adhesive Address Labels for Typewriters b...   14.6200  \n",
       "3      Bretford CR4500 Series Slim Rectangular Table  957.5775  \n",
       "4                     Eldon Fold 'N Roll Cart System   22.3680  \n",
       "5  Eldon Expressions Wood and Plastic Desk Access...   48.8600  \n",
       "6                                         Newell 322    7.2800  \n",
       "7                     Mitel 5320 IP Phone VoIP phone  907.1520  \n",
       "8  DXL Angle-View Binders with Locking Rings by S...   18.5040  \n",
       "9                   Belkin F5C206VTEL 6 Outlet Surge  114.9000  "
      ]
     },
     "execution_count": 5,
     "metadata": {},
     "output_type": "execute_result"
    }
   ],
   "source": [
    "print('Number of rows and columns')\n",
    "print(retail_data.shape) #print out number of rows and columns\n",
    "retail_data.head(10) #print out 10 first rows of the table"
   ]
  },
  {
   "cell_type": "markdown",
   "metadata": {},
   "source": [
    "As you can see from the results above, we have a a sales table with 9,800 transactions and 18 different attributes or columns.\n",
    "\n",
    "The first thing we will do is to convert the date attribute in the table to a datetime data format. This is to enable us to analyse attributes through time. Analysing time dependent attributes is called timeserie analysis. \n",
    "\n",
    "There are 2 dates attributes in the dataset: 'Order Date' and ' Shipping Date'. We will use 'Order Date' as it is the date that reflects date of purchase.\n",
    "\n",
    "We need to convert the 'Order date' attribute to a **datetime** data format which can then easily be interpreted by **pandas**.\n",
    "\n",
    "We can do this with the following command.\n",
    "\n",
    "<font color='red'>**You DO NOT need to edit anything in the code below!**</font>"
   ]
  },
  {
   "cell_type": "code",
   "execution_count": 6,
   "metadata": {},
   "outputs": [],
   "source": [
    "retail_data['Order Date']=pd.to_datetime(retail_data['Order Date']) # convert 'Order Date' to datetime format\n",
    "retail_data.sort_values(by=['Order Date'],ignore_index=True,inplace=True) #sort the dataframe by 'Order Date'"
   ]
  },
  {
   "cell_type": "markdown",
   "metadata": {},
   "source": [
    "## Some statistics\n",
    "\n",
    "Let us now explore some attributes.\n",
    "\n",
    "Can you copy the last line in the next cell and replace 'Category' by 'Sub-Category' to explore the list of products sold by this store?\n",
    "\n",
    "<font color='Green'>**You CAN edit the cell below if you want!**</font>"
   ]
  },
  {
   "cell_type": "code",
   "execution_count": 7,
   "metadata": {},
   "outputs": [
    {
     "name": "stdout",
     "output_type": "stream",
     "text": [
      "List of countries:  ['United States']\n",
      "Number of states=  49\n",
      "List of product categories:  ['Office Supplies' 'Technology' 'Furniture']\n"
     ]
    }
   ],
   "source": [
    "print('List of countries: ',retail_data['Country'].unique()) #print out the list of unique country values\n",
    "print('Number of states= ',len(retail_data['State'].unique())) #print out the list of unique country values\n",
    "print('List of product categories: ',retail_data['Category'].unique()) #print out the list of unique country values"
   ]
  },
  {
   "cell_type": "markdown",
   "metadata": {},
   "source": [
    "As you can see, this online store operates only within the United States. It has served 49 states so far and it sells Furniture, Office supplies and Technology products.\n",
    "Let us push the exploration a bit further.\n",
    "\n",
    "<font color='red'>**You DO NOT need to edit anything in the code below!**</font>"
   ]
  },
  {
   "cell_type": "code",
   "execution_count": 8,
   "metadata": {},
   "outputs": [
    {
     "name": "stdout",
     "output_type": "stream",
     "text": [
      "Number of transactions =  9800\n",
      "Number of unique customers =  793\n"
     ]
    }
   ],
   "source": [
    "print('Number of transactions = ',retail_data['Order ID'].count()) # count total number of transactions\n",
    "print('Number of unique customers = ',len(retail_data['Customer ID'].unique())) # number of unique customers"
   ]
  },
  {
   "cell_type": "markdown",
   "metadata": {},
   "source": [
    "From above, we can see that the number of unique customers is much smaller than the total number of transactions. This means that many customers buy multiple items which is good for the business."
   ]
  },
  {
   "cell_type": "markdown",
   "metadata": {},
   "source": [
    "## Top sales\n",
    "\n",
    "Next in our data exploration, we can visualise the top 10 selling products by 'Sub-Category'.\n",
    "\n",
    "You can also visualise the top 10 selling products by 'Product Names'. To do so, you only need to replace in the cell below **'Sub-Category'** by **'Product Name'** and re-run the cell. There are 2 places in the code where you need to do the replacement.\n",
    "\n",
    "FYI, we put in comments in the coding cell to explain the different commands.\n",
    "\n",
    "<font color='Green'>**You CAN edit the cell below if you want!**</font>"
   ]
  },
  {
   "cell_type": "code",
   "execution_count": 9,
   "metadata": {},
   "outputs": [
    {
     "data": {
      "image/png": "[encoded data removed]",
      "text/plain": [
       "<Figure size 1080x360 with 1 Axes>"
      ]
     },
     "metadata": {
      "needs_background": "light"
     },
     "output_type": "display_data"
    }
   ],
   "source": [
    "# sum the sales by sub-category \n",
    "#then sort the result in Descending order and \n",
    "#select the to 10 sub-category sales\n",
    "\n",
    "top10_products=retail_data.groupby(['Sub-Category'])['Sales'].sum()\\\n",
    "                .sort_values(ascending=False)\\\n",
    "                .nlargest(10).reset_index()\n",
    "                \n",
    "# plot a bar chart selecting 'Sub-Category' for x-axis and 'Sales for 'y-axis' and \n",
    "#specify rotation for x labels, the size of the figure and the title of the y-axis.\n",
    "\n",
    "ax=top10_products.plot.bar(x='Sub-Category', y='Sales', rot=45,figsize=(15,5),ylabel='Sales in dollars')"
   ]
  },
  {
   "cell_type": "markdown",
   "metadata": {},
   "source": [
    "Other interesting things you can explore using a similar bar chart to the one above is to check top States for sales by grouping data by 'State', top customers by grouping the data by 'Customer ID' or top cities generating revenue by grouping by 'City'."
   ]
  },
  {
   "cell_type": "markdown",
   "metadata": {},
   "source": [
    "## Sales timeserie\n",
    "\n",
    "Let us now visualise the sales data through time by plotting the 'Sales' data by 'Oder Date'.\\\n",
    "Building a visual using the matplotlib package requires the use of multiple commands. Bellow you can see coding cell for plotting the data.\n",
    "\n",
    "<font color='red'>**You DO NOT need to edit anything in the code below!**</font>"
   ]
  },
  {
   "cell_type": "code",
   "execution_count": 10,
   "metadata": {},
   "outputs": [
    {
     "data": {
      "image/png": "[encoded data removed]",
      "text/plain": [
       "<Figure size 1080x360 with 1 Axes>"
      ]
     },
     "metadata": {
      "needs_background": "light"
     },
     "output_type": "display_data"
    }
   ],
   "source": [
    "fig, ax = plt.subplots(figsize=(15,5)) #setup the plot size\n",
    "ax.plot(retail_data['Order Date'],retail_data['Sales'],color='blue',label='Sales') # define x and y data and colour\n",
    "ax.set(xlabel='Date', ylabel='Sales in dollars', # define x and y labels\n",
    "       title='Supertores sales data') # define the title of the visual\n",
    "plt.xticks(rotation=30) # rotate date labels by 30 degrees\n",
    "plt.legend(loc=\"upper left\") # define position of the legend\n",
    "plt.show() # diplay the visual"
   ]
  },
  {
   "cell_type": "markdown",
   "metadata": {},
   "source": [
    "You can notice the date range of the data and confirm that indeed we have 4 years worth of sales. Otherwise the visual itself is very messy with too much information given we are visualising the sales at the level of every item. Looking at this it seems hard to figure out how we can predict sales for the next 3 years! \n",
    "\n",
    "Don't worry, this is where data pre-processing can help! For our sales prediction we do not care about product name or even categories. All we care about is the combined revenue generated, in this case, over a year. Aggregating the data by time bins can helps us better visualise the revenue over longer period of times.\n",
    "\n",
    "We can aggregate data using different time bins. In this case we can look at the sales daily (by summing sales over all products for every single day), or weekly or monthly and even yearly.\n",
    "\n",
    "The code below lets you aggregate the data daily. The time bin is selected by changing the parameter 'freq'.\n",
    "Some of the options for the 'freq' parameter are 'D' for daily, 'W' for weekly, 'M' for monthly and 'Y' for yearly.\n",
    "\n",
    "Go ahead and change 'freq' value to freq='Y' and re-run the cell to visualise the weekly sales data. You can do the same for monthly and yearly.\n",
    "\n",
    "<font color='Green'>**You CAN edit the cell below if you want!**</font>"
   ]
  },
  {
   "cell_type": "code",
   "execution_count": 11,
   "metadata": {},
   "outputs": [
    {
     "data": {
      "image/png": "[encoded data removed]",
      "text/plain": [
       "<Figure size 1080x360 with 1 Axes>"
      ]
     },
     "metadata": {
      "needs_background": "light"
     },
     "output_type": "display_data"
    }
   ],
   "source": [
    "# Aggregate the sales data by time bin. \n",
    "# The time bin is selected by changing the value of the parameter 'freq' in the first line of the code.\n",
    "aggregated_sales = retail_data.groupby(pd.Grouper(key='Order Date', freq='D'))\\\n",
    "       .sum()\\\n",
    "       .sort_values(['Order Date','Sales'],ascending=[True,False])\\\n",
    "       .reset_index()\n",
    "\n",
    "#visualise the aggregated sales\n",
    "fig, ax = plt.subplots(figsize=(15,5))\n",
    "ax.plot(aggregated_sales['Order Date'],aggregated_sales['Sales'],color='blue',label='Sales')\n",
    "ax.set(xlabel='Date', ylabel='Sales in dollars',\n",
    "       title='Superstore sales data')\n",
    "plt.xticks(rotation=30)\n",
    "plt.legend(loc=\"upper left\")\n",
    "plt.show()"
   ]
  },
  {
   "cell_type": "markdown",
   "metadata": {},
   "source": [
    "If you tested different aggregation levels above you would have noticed that the more you aggregate the easier it is to see the growth in sales. In fact, given that we only care about yearly growth, the best aggregation level in our case is monthly sales as that would remove, what we call in retail data, 'seasonality'. Seasonality introduces time patterns or variability that can be identified in the data. This is well known in retail where people tend to have prefered shopping days (for example closer to the weekend or during the weekend) and shop less at the begining of the week. Due to this you will see sales going up at the end of the week and then going down at the start of the week. When you aggregate data monthly, you remove weekly seasonality. There is still yearly seasonality in play which is linked to the holidays, the 'Discount' periods or end of financial inventory review.  This can be removed by aggregating yearly but if we do that we end up with only 4 data points (we only have 4 years of data) which is not enough for robust forcasting.\n",
    "\n",
    "This is what monthly aggregated sales data look like.\n",
    "\n",
    "<font color='red'>**You DO NOT need to edit anything in the code below!**</font>"
   ]
  },
  {
   "cell_type": "code",
   "execution_count": 12,
   "metadata": {},
   "outputs": [
    {
     "data": {
      "image/png": "[encoded data removed]",
      "text/plain": [
       "<Figure size 1080x360 with 1 Axes>"
      ]
     },
     "metadata": {
      "needs_background": "light"
     },
     "output_type": "display_data"
    }
   ],
   "source": [
    "# Aggregate the sales data by month\n",
    "monthly_sales = retail_data.groupby(pd.Grouper(key='Order Date', freq='M'))\\\n",
    "       .sum()\\\n",
    "       .sort_values(['Order Date','Sales'],ascending=[True,False])\\\n",
    "       .reset_index()\n",
    "\n",
    "#visualise the aggregated sales\n",
    "fig, ax = plt.subplots(figsize=(15,5))\n",
    "ax.plot(monthly_sales['Order Date'],monthly_sales['Sales'],color='blue',label='Sales')\n",
    "ax.set(xlabel='Date', ylabel='Sales in dollars',\n",
    "       title='Superstore monthly sales data')\n",
    "plt.xticks(rotation=30)\n",
    "plt.legend(loc=\"upper left\")\n",
    "plt.show()"
   ]
  },
  {
   "cell_type": "markdown",
   "metadata": {},
   "source": [
    "It is much clearer from the monthly data data the revenue from the store is growing year-on-year. We can still see yearly seasonality in the form peak sales, specifically toward the end of the year which is the holiday season and during which there are oftne significan discounts and offers in place.\n",
    "\n",
    "This monthly aggregated sales data is the dataset we will use to forcast revenue growth.\n",
    "\n",
    "We will only keep the columns we care for the forecasting.\n",
    "\n",
    "<font color='red'>**You DO NOT need to edit anything in the code below!**</font>"
   ]
  },
  {
   "cell_type": "code",
   "execution_count": 13,
   "metadata": {},
   "outputs": [
    {
     "data": {
      "text/html": [
       "<div>\n",
       "<style scoped>\n",
       "    .dataframe tbody tr th:only-of-type {\n",
       "        vertical-align: middle;\n",
       "    }\n",
       "\n",
       "    .dataframe tbody tr th {\n",
       "        vertical-align: top;\n",
       "    }\n",
       "\n",
       "    .dataframe thead th {\n",
       "        text-align: right;\n",
       "    }\n",
       "</style>\n",
       "<table border=\"1\" class=\"dataframe\">\n",
       "  <thead>\n",
       "    <tr style=\"text-align: right;\">\n",
       "      <th></th>\n",
       "      <th>Order Date</th>\n",
       "      <th>Sales</th>\n",
       "    </tr>\n",
       "  </thead>\n",
       "  <tbody>\n",
       "    <tr>\n",
       "      <th>0</th>\n",
       "      <td>2018-01-31</td>\n",
       "      <td>14205.7070</td>\n",
       "    </tr>\n",
       "    <tr>\n",
       "      <th>1</th>\n",
       "      <td>2018-02-28</td>\n",
       "      <td>4519.8920</td>\n",
       "    </tr>\n",
       "    <tr>\n",
       "      <th>2</th>\n",
       "      <td>2018-03-31</td>\n",
       "      <td>55205.7970</td>\n",
       "    </tr>\n",
       "    <tr>\n",
       "      <th>3</th>\n",
       "      <td>2018-04-30</td>\n",
       "      <td>27906.8550</td>\n",
       "    </tr>\n",
       "    <tr>\n",
       "      <th>4</th>\n",
       "      <td>2018-05-31</td>\n",
       "      <td>23644.3030</td>\n",
       "    </tr>\n",
       "    <tr>\n",
       "      <th>5</th>\n",
       "      <td>2018-06-30</td>\n",
       "      <td>34322.9356</td>\n",
       "    </tr>\n",
       "    <tr>\n",
       "      <th>6</th>\n",
       "      <td>2018-07-31</td>\n",
       "      <td>33781.5430</td>\n",
       "    </tr>\n",
       "    <tr>\n",
       "      <th>7</th>\n",
       "      <td>2018-08-31</td>\n",
       "      <td>27117.5365</td>\n",
       "    </tr>\n",
       "    <tr>\n",
       "      <th>8</th>\n",
       "      <td>2018-09-30</td>\n",
       "      <td>81623.5268</td>\n",
       "    </tr>\n",
       "    <tr>\n",
       "      <th>9</th>\n",
       "      <td>2018-10-31</td>\n",
       "      <td>31453.3930</td>\n",
       "    </tr>\n",
       "  </tbody>\n",
       "</table>\n",
       "</div>"
      ],
      "text/plain": [
       "  Order Date       Sales\n",
       "0 2018-01-31  14205.7070\n",
       "1 2018-02-28   4519.8920\n",
       "2 2018-03-31  55205.7970\n",
       "3 2018-04-30  27906.8550\n",
       "4 2018-05-31  23644.3030\n",
       "5 2018-06-30  34322.9356\n",
       "6 2018-07-31  33781.5430\n",
       "7 2018-08-31  27117.5365\n",
       "8 2018-09-30  81623.5268\n",
       "9 2018-10-31  31453.3930"
      ]
     },
     "execution_count": 13,
     "metadata": {},
     "output_type": "execute_result"
    }
   ],
   "source": [
    "monthly_sales_data=monthly_sales[['Order Date','Sales']] #select only order date and sales\n",
    "monthly_sales_data.head(10) #preview the table"
   ]
  },
  {
   "cell_type": "markdown",
   "metadata": {},
   "source": [
    "That is it for our EDA and ETL!\n",
    "\n",
    "We have created a new monthly sales data table for our analysis called monthly_sales_data.\n",
    "\n",
    "This is the cleaned and transformed dataset we will use for our forecasting analysis in Task 2."
   ]
  }
 ],
 "metadata": {
  "kernelspec": {
   "display_name": "Python 3",
   "language": "python",
   "name": "python3"
  },
  "language_info": {
   "codemirror_mode": {
    "name": "ipython",
    "version": 3
   },
   "file_extension": ".py",
   "mimetype": "text/x-python",
   "name": "python",
   "nbconvert_exporter": "python",
   "pygments_lexer": "ipython3",
   "version": "3.7.9"
  }
 },
 "nbformat": 4,
 "nbformat_minor": 4
}
